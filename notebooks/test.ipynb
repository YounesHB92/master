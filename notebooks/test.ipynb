{
 "cells": [
  {
   "cell_type": "code",
   "id": "initial_id",
   "metadata": {
    "collapsed": true,
    "ExecuteTime": {
     "end_time": "2025-06-03T13:45:14.391566Z",
     "start_time": "2025-06-03T13:45:14.386457Z"
    }
   },
   "source": [
    "from src.utils import path_\n",
    "\n",
    "path_.change_working_dir()\n",
    "\n",
    "import cv2\n",
    "import numpy as np"
   ],
   "outputs": [
    {
     "name": "stdout",
     "output_type": "stream",
     "text": [
      "Current working dir: /home/younes/Desktop/projects/master\n"
     ]
    }
   ],
   "execution_count": 6
  },
  {
   "metadata": {
    "ExecuteTime": {
     "end_time": "2025-06-03T13:45:14.423540Z",
     "start_time": "2025-06-03T13:45:14.420217Z"
    }
   },
   "cell_type": "code",
   "source": "mask_path = \"datasets/splits/rcd/val/seg_masks/00330_jpg.rf.940ce79f9ed8d34ec0a7a0ba704e6afb.jpg\"",
   "id": "3c640d0b708ebef3",
   "outputs": [],
   "execution_count": 7
  },
  {
   "metadata": {
    "ExecuteTime": {
     "end_time": "2025-06-03T13:45:14.472030Z",
     "start_time": "2025-06-03T13:45:14.469440Z"
    }
   },
   "cell_type": "code",
   "source": "mask = cv2.imread(mask_path, 0)",
   "id": "a23db7b5281f5e6",
   "outputs": [],
   "execution_count": 8
  },
  {
   "metadata": {
    "ExecuteTime": {
     "end_time": "2025-06-03T13:45:14.525190Z",
     "start_time": "2025-06-03T13:45:14.516745Z"
    }
   },
   "cell_type": "code",
   "source": "np.unique(mask)",
   "id": "e164038dcd9e58e6",
   "outputs": [
    {
     "data": {
      "text/plain": [
       "array([0, 1, 2, 3, 4], dtype=uint8)"
      ]
     },
     "execution_count": 9,
     "metadata": {},
     "output_type": "execute_result"
    }
   ],
   "execution_count": 9
  },
  {
   "metadata": {
    "ExecuteTime": {
     "end_time": "2025-06-03T13:45:14.568520Z",
     "start_time": "2025-06-03T13:45:14.566806Z"
    }
   },
   "cell_type": "code",
   "source": "",
   "id": "19650f68be5cad3e",
   "outputs": [],
   "execution_count": null
  }
 ],
 "metadata": {
  "kernelspec": {
   "display_name": "Python 3",
   "language": "python",
   "name": "python3"
  },
  "language_info": {
   "codemirror_mode": {
    "name": "ipython",
    "version": 2
   },
   "file_extension": ".py",
   "mimetype": "text/x-python",
   "name": "python",
   "nbconvert_exporter": "python",
   "pygments_lexer": "ipython2",
   "version": "2.7.6"
  }
 },
 "nbformat": 4,
 "nbformat_minor": 5
}
