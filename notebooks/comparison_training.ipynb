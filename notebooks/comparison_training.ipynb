{
 "cells": [
  {
   "cell_type": "code",
   "execution_count": null,
   "id": "initial_id",
   "metadata": {
    "collapsed": true
   },
   "outputs": [],
   "source": [
    "import os\n",
    "\n",
    "if \"master\" not in os.listdir(\"./\"):\n",
    "    !git clone https://github.com/YounesHB92/master.git\n",
    "    !pip install -r ./master/requirements.txt\n",
    "else:\n",
    "    print(\"Already cloned!\")"
   ]
  },
  {
   "metadata": {},
   "cell_type": "code",
   "outputs": [],
   "execution_count": null,
   "source": [
    "if \"rcd.tar\" not in os.listdir(\"./\"):\n",
    "    !gdown \"https://drive.google.com/file/d/1WcnQRMa-m8Bv1SfgjelHVhku3GT7HhaK/view?usp=sharing\"\n",
    "    !mkdir -p ./master/datasets/splits\n",
    "    !tar -xvf rcd.tar.gz -C ./master/datasets/splits/\n",
    "else:\n",
    "    print(\"Already downloaded!\")"
   ],
   "id": "42837aa5370e4f9e"
  },
  {
   "metadata": {},
   "cell_type": "code",
   "outputs": [],
   "execution_count": null,
   "source": [
    "if \"drive\" not in os.listdir(\"./\"):\n",
    "    from google.colab import drive\n",
    "    drive.mount('/content/drive')\n",
    "else:\n",
    "    print(\"Already mounted!\")"
   ],
   "id": "dc16d7a7e26dd010"
  },
  {
   "metadata": {},
   "cell_type": "code",
   "outputs": [],
   "execution_count": null,
   "source": "!python /content/master/scripts/comparison_train.py",
   "id": "85c51f46da4e3d69"
  }
 ],
 "metadata": {
  "kernelspec": {
   "display_name": "Python 3",
   "language": "python",
   "name": "python3"
  },
  "language_info": {
   "codemirror_mode": {
    "name": "ipython",
    "version": 2
   },
   "file_extension": ".py",
   "mimetype": "text/x-python",
   "name": "python",
   "nbconvert_exporter": "python",
   "pygments_lexer": "ipython2",
   "version": "2.7.6"
  }
 },
 "nbformat": 4,
 "nbformat_minor": 5
}
