{
 "cells": [
  {
   "metadata": {},
   "cell_type": "markdown",
   "source": "# imports",
   "id": "b6dc5e8b5584fb90"
  },
  {
   "cell_type": "code",
   "id": "initial_id",
   "metadata": {
    "collapsed": true,
    "ExecuteTime": {
     "end_time": "2025-03-19T15:18:19.549283Z",
     "start_time": "2025-03-19T15:18:19.545885Z"
    }
   },
   "source": [
    "import os\n",
    "import shutil\n",
    "import sys\n",
    "\n",
    "import pandas as pd\n",
    "from sklearn.model_selection import train_test_split\n",
    "from tqdm import tqdm\n",
    "\n",
    "path = sys.path[0]"
   ],
   "outputs": [],
   "execution_count": 69
  },
  {
   "metadata": {},
   "cell_type": "markdown",
   "source": "# loading data",
   "id": "513896f4ad413d9d"
  },
  {
   "metadata": {
    "ExecuteTime": {
     "end_time": "2025-03-19T15:18:19.569284Z",
     "start_time": "2025-03-19T15:18:19.561157Z"
    }
   },
   "cell_type": "code",
   "source": [
    "labels = pd.read_csv(os.path.join(path, 'data/classes/types_causes.csv'))\n",
    "labels.drop(len(labels) - 1, axis=0, inplace=True)  # getting tid 1095.png"
   ],
   "id": "5e63770bebf7399b",
   "outputs": [],
   "execution_count": 70
  },
  {
   "metadata": {},
   "cell_type": "markdown",
   "source": "# creating folders",
   "id": "673fad48ac5716be"
  },
  {
   "metadata": {},
   "cell_type": "markdown",
   "source": "## train val test",
   "id": "3dd4bed32699c370"
  },
  {
   "metadata": {
    "ExecuteTime": {
     "end_time": "2025-03-19T15:18:19.611410Z",
     "start_time": "2025-03-19T15:18:19.607054Z"
    }
   },
   "cell_type": "code",
   "source": [
    "types = list(labels[\"Type\"].value_counts().index)\n",
    "folders = [\"images\", \"annotations\"]\n",
    "sets = [\"train\", \"val\", \"test\"]\n",
    "base_path = os.path.join(path, \"datasets/\")\n",
    "for folder_ in folders:\n",
    "    os.makedirs(os.path.join(base_path, folder_), exist_ok=True)\n",
    "    for set_ in sets:\n",
    "        os.makedirs(os.path.join(base_path, folder_, set_), exist_ok=True)"
   ],
   "id": "fa8335e9f14ef9e4",
   "outputs": [],
   "execution_count": 71
  },
  {
   "metadata": {},
   "cell_type": "markdown",
   "source": "## classes",
   "id": "19f2985f0ac8212e"
  },
  {
   "metadata": {
    "ExecuteTime": {
     "end_time": "2025-03-19T15:18:19.657898Z",
     "start_time": "2025-03-19T15:18:19.654139Z"
    }
   },
   "cell_type": "code",
   "source": [
    "for folder_ in folders:\n",
    "    for set_ in sets:\n",
    "        for type_ in types:\n",
    "            path_ = os.path.join(base_path, folder_, set_, type_)\n",
    "            os.makedirs(path_, exist_ok=True)"
   ],
   "id": "cdb53753de0ebad6",
   "outputs": [],
   "execution_count": 72
  },
  {
   "metadata": {},
   "cell_type": "markdown",
   "source": "# split and transfer",
   "id": "32531232d539d3fc"
  },
  {
   "metadata": {
    "ExecuteTime": {
     "end_time": "2025-03-19T15:18:19.708592Z",
     "start_time": "2025-03-19T15:18:19.702796Z"
    }
   },
   "cell_type": "code",
   "source": [
    "x_train, x_val = train_test_split(labels, test_size=0.2, random_state=42)\n",
    "x_train, x_test = train_test_split(x_train, test_size=0.2, random_state=42)\n",
    "print(\n",
    "    \"You will have:\\n\\t{} train images, \\n\\t {} validation images, \\n\\t {} test images\".format(len(x_train), len(x_val),\n",
    "                                                                                               len(x_test)))"
   ],
   "id": "8b2820e26ff19498",
   "outputs": [
    {
     "name": "stdout",
     "output_type": "stream",
     "text": [
      "You will have:\n",
      "\t699 train images, \n",
      "\t 219 validation images, \n",
      "\t 175 test images\n"
     ]
    }
   ],
   "execution_count": 73
  },
  {
   "metadata": {
    "ExecuteTime": {
     "end_time": "2025-03-19T15:18:35.611687Z",
     "start_time": "2025-03-19T15:18:19.815226Z"
    }
   },
   "cell_type": "code",
   "source": [
    "sets = {\n",
    "    \"train\": x_train,\n",
    "    \"val\": x_val,\n",
    "    \"test\": x_test\n",
    "}\n",
    "\n",
    "source_paths = {\n",
    "    \"images\": \"/home/younes/Desktop/projects/feature_extraction/data/images\",\n",
    "    \"annotations\": \"/home/younes/Desktop/projects/feature_extraction/data/annotations\"\n",
    "}\n",
    "\n",
    "for folder_ in folders:\n",
    "    for set_ in sets:\n",
    "        # print(\"Working on {}\".format(set_))\n",
    "        indexes = sets[set_].index\n",
    "        for index_ in tqdm(indexes):\n",
    "            image = sets[set_].loc[index_, \"Image\"]\n",
    "            # print(\"\\tTransferring image {}\".format(image))\n",
    "            type = sets[set_].loc[index_, \"Type\"]\n",
    "            # transferring image\n",
    "            source_path = os.path.join(source_paths[folder_], image)\n",
    "            dest_path = os.path.join(base_path, folder_, set_, type, image)\n",
    "            shutil.copy(source_path, dest_path)\n",
    "            # print(\"\\t\\tDone!\")\n"
   ],
   "id": "b6e3a1938ca980b8",
   "outputs": [
    {
     "name": "stderr",
     "output_type": "stream",
     "text": [
      "100%|██████████| 699/699 [00:10<00:00, 67.79it/s]\n",
      "100%|██████████| 219/219 [00:02<00:00, 75.71it/s]\n",
      "100%|██████████| 175/175 [00:02<00:00, 73.15it/s]\n",
      "100%|██████████| 699/699 [00:00<00:00, 5685.60it/s]\n",
      "100%|██████████| 219/219 [00:00<00:00, 6555.05it/s]\n",
      "100%|██████████| 175/175 [00:00<00:00, 6329.85it/s]\n"
     ]
    }
   ],
   "execution_count": 74
  },
  {
   "metadata": {
    "ExecuteTime": {
     "end_time": "2025-03-19T15:18:35.630323Z",
     "start_time": "2025-03-19T15:18:35.628596Z"
    }
   },
   "cell_type": "code",
   "source": "",
   "id": "16dcd31a85193d81",
   "outputs": [],
   "execution_count": null
  }
 ],
 "metadata": {
  "kernelspec": {
   "display_name": "Python 3",
   "language": "python",
   "name": "python3"
  },
  "language_info": {
   "codemirror_mode": {
    "name": "ipython",
    "version": 2
   },
   "file_extension": ".py",
   "mimetype": "text/x-python",
   "name": "python",
   "nbconvert_exporter": "python",
   "pygments_lexer": "ipython2",
   "version": "2.7.6"
  }
 },
 "nbformat": 4,
 "nbformat_minor": 5
}
